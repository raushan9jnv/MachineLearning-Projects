{
  "nbformat": 4,
  "nbformat_minor": 0,
  "metadata": {
    "colab": {
      "name": "Fake News Detection.ipynb",
      "provenance": [],
      "authorship_tag": "ABX9TyNIHLTRkvD+0J5MPcbKO/L+",
      "include_colab_link": true
    },
    "kernelspec": {
      "name": "python3",
      "display_name": "Python 3"
    },
    "language_info": {
      "name": "python"
    }
  },
  "cells": [
    {
      "cell_type": "markdown",
      "metadata": {
        "id": "view-in-github",
        "colab_type": "text"
      },
      "source": [
        "<a href=\"https://colab.research.google.com/github/raushan9jnv/MachineLearning-Projects/blob/main/Fake%20news%20detection%20using%20Data%20Science/Fake%20News%20Detection/Fake_News_Detection.ipynb\" target=\"_parent\"><img src=\"https://colab.research.google.com/assets/colab-badge.svg\" alt=\"Open In Colab\"/></a>"
      ]
    },
    {
      "cell_type": "markdown",
      "metadata": {
        "id": "i02pihSfEuSW"
      },
      "source": [
        "#**Fake News Detection**\n",
        "**Author: Raushan  Kumar**"
      ]
    },
    {
      "cell_type": "markdown",
      "metadata": {
        "id": "ttqy9VMN5CKE"
      },
      "source": [
        "**Steps followed in this project:**\n",
        "1. Objective\n",
        "2. About Fake news\n",
        "3. Explore dataset\n",
        "4. Peparing the Data\n",
        "5. Bag of Words Creation\n",
        "6. Initialize PassiveAggressive Classifier\n",
        "7. Making Predictions\n",
        "8. Evaluation Metrics\n",
        "9. Conclusion"
      ]
    },
    {
      "cell_type": "markdown",
      "metadata": {
        "id": "0kdoCLdL-WV-"
      },
      "source": [
        "# **OBJECTIVE**"
      ]
    },
    {
      "cell_type": "markdown",
      "metadata": {
        "id": "WC5LZ1pW-cIV"
      },
      "source": [
        "In this project we have asked to Detect the Fake news on given dataset."
      ]
    },
    {
      "cell_type": "markdown",
      "metadata": {
        "id": "vJPNLmp5FNWb"
      },
      "source": [
        "We were given with **news.csv** dataset and this contain 6335 rows and 4 coulmns."
      ]
    },
    {
      "cell_type": "markdown",
      "metadata": {
        "id": "YrVwe1zsYb6F"
      },
      "source": [
        "# **What is Fake news?**"
      ]
    },
    {
      "cell_type": "markdown",
      "metadata": {
        "id": "v7xAgQEXYc1E"
      },
      "source": [
        " A type of yellow journalism, fake news encapsulates pieces of news that may be hoaxes and is generally spread through social media and other online media. This is often done to further or impose certain ideas and is often achieved with political agendas. Such news items may contain false and/or exaggerated claims, and may end up being viralized by algorithms, and users may end up in a filter bubble.\n",
        "\n",
        " ---\n",
        " \n",
        "\n",
        "\n",
        "\n"
      ]
    },
    {
      "cell_type": "markdown",
      "metadata": {
        "id": "qVAY4eLnKvcX"
      },
      "source": [
        "# You can get dataset of **news.csv** for this project from my github profile [Github link](https://github.com/raushan9jnv/MachineLearning-Projects/blob/06ffda8dd29549abe12fd2f9dc3c1cd0587e7867/Fake%20news%20detection%20using%20Data%20Science/Data/news.csv) \n",
        "# Also from here in zip form [Drive link](https://drive.google.com/file/d/1er9NJTLUA3qnRuyhfzuN0XUsoIC4a-_q/view)"
      ]
    },
    {
      "cell_type": "markdown",
      "metadata": {
        "id": "9oT0dVEYcnl6"
      },
      "source": [
        "# **Time to Explore and Dive into Given Dataset**\n",
        "___"
      ]
    },
    {
      "cell_type": "code",
      "metadata": {
        "id": "6k53Rws-EEVV"
      },
      "source": [
        "# Let us begin with importing libraries\n",
        "import numpy as np\n",
        "import pandas as pd\n",
        "import matplotlib.pyplot as plt\n",
        "import seaborn as sns\n",
        "\n",
        "import itertools\n",
        "from sklearn.model_selection import train_test_split\n",
        "from sklearn.feature_extraction.text import TfidfVectorizer\n",
        "from sklearn.linear_model import PassiveAggressiveClassifier\n",
        "from sklearn.metrics import accuracy_score, confusion_matrix\n"
      ],
      "execution_count": 18,
      "outputs": []
    },
    {
      "cell_type": "markdown",
      "metadata": {
        "id": "MmGpVNTUlXl2"
      },
      "source": [
        "### **Explore the DataFrame**"
      ]
    },
    {
      "cell_type": "code",
      "metadata": {
        "id": "mnoLdVAXFI65"
      },
      "source": [
        "#Read the data\n",
        "df=pd.read_csv('news.csv')"
      ],
      "execution_count": 4,
      "outputs": []
    },
    {
      "cell_type": "code",
      "metadata": {
        "colab": {
          "base_uri": "https://localhost:8080/"
        },
        "id": "ee-_3yK-Oq3_",
        "outputId": "9cf2869d-1712-4621-aea2-a27d2c34dbc6"
      },
      "source": [
        "len(df)"
      ],
      "execution_count": 15,
      "outputs": [
        {
          "output_type": "execute_result",
          "data": {
            "text/plain": [
              "6335"
            ]
          },
          "metadata": {},
          "execution_count": 15
        }
      ]
    },
    {
      "cell_type": "code",
      "metadata": {
        "colab": {
          "base_uri": "https://localhost:8080/"
        },
        "id": "QZeO8hsTOfx6",
        "outputId": "8ad1ff89-d53f-4071-e5e2-afcbbf3d6e86"
      },
      "source": [
        "#Get shape\n",
        "df.shape"
      ],
      "execution_count": 13,
      "outputs": [
        {
          "output_type": "execute_result",
          "data": {
            "text/plain": [
              "(6335, 4)"
            ]
          },
          "metadata": {},
          "execution_count": 13
        }
      ]
    },
    {
      "cell_type": "code",
      "metadata": {
        "colab": {
          "base_uri": "https://localhost:8080/"
        },
        "id": "PdTdYklXPiyV",
        "outputId": "3160fb87-d0cf-41d9-9591-020539406ab0"
      },
      "source": [
        "#Get column names\n",
        "df.columns"
      ],
      "execution_count": 22,
      "outputs": [
        {
          "output_type": "execute_result",
          "data": {
            "text/plain": [
              "Index(['Unnamed: 0', 'title', 'text', 'label'], dtype='object')"
            ]
          },
          "metadata": {},
          "execution_count": 22
        }
      ]
    },
    {
      "cell_type": "code",
      "metadata": {
        "colab": {
          "base_uri": "https://localhost:8080/",
          "height": 204
        },
        "id": "SI0opwVvFI4z",
        "outputId": "801a511c-4427-47f1-cbc6-af3cc862f184"
      },
      "source": [
        "#Get shape and head\n",
        "df.head()"
      ],
      "execution_count": 14,
      "outputs": [
        {
          "output_type": "execute_result",
          "data": {
            "text/html": [
              "<div>\n",
              "<style scoped>\n",
              "    .dataframe tbody tr th:only-of-type {\n",
              "        vertical-align: middle;\n",
              "    }\n",
              "\n",
              "    .dataframe tbody tr th {\n",
              "        vertical-align: top;\n",
              "    }\n",
              "\n",
              "    .dataframe thead th {\n",
              "        text-align: right;\n",
              "    }\n",
              "</style>\n",
              "<table border=\"1\" class=\"dataframe\">\n",
              "  <thead>\n",
              "    <tr style=\"text-align: right;\">\n",
              "      <th></th>\n",
              "      <th>Unnamed: 0</th>\n",
              "      <th>title</th>\n",
              "      <th>text</th>\n",
              "      <th>label</th>\n",
              "    </tr>\n",
              "  </thead>\n",
              "  <tbody>\n",
              "    <tr>\n",
              "      <th>0</th>\n",
              "      <td>8476</td>\n",
              "      <td>You Can Smell Hillary’s Fear</td>\n",
              "      <td>Daniel Greenfield, a Shillman Journalism Fello...</td>\n",
              "      <td>FAKE</td>\n",
              "    </tr>\n",
              "    <tr>\n",
              "      <th>1</th>\n",
              "      <td>10294</td>\n",
              "      <td>Watch The Exact Moment Paul Ryan Committed Pol...</td>\n",
              "      <td>Google Pinterest Digg Linkedin Reddit Stumbleu...</td>\n",
              "      <td>FAKE</td>\n",
              "    </tr>\n",
              "    <tr>\n",
              "      <th>2</th>\n",
              "      <td>3608</td>\n",
              "      <td>Kerry to go to Paris in gesture of sympathy</td>\n",
              "      <td>U.S. Secretary of State John F. Kerry said Mon...</td>\n",
              "      <td>REAL</td>\n",
              "    </tr>\n",
              "    <tr>\n",
              "      <th>3</th>\n",
              "      <td>10142</td>\n",
              "      <td>Bernie supporters on Twitter erupt in anger ag...</td>\n",
              "      <td>— Kaydee King (@KaydeeKing) November 9, 2016 T...</td>\n",
              "      <td>FAKE</td>\n",
              "    </tr>\n",
              "    <tr>\n",
              "      <th>4</th>\n",
              "      <td>875</td>\n",
              "      <td>The Battle of New York: Why This Primary Matters</td>\n",
              "      <td>It's primary day in New York and front-runners...</td>\n",
              "      <td>REAL</td>\n",
              "    </tr>\n",
              "  </tbody>\n",
              "</table>\n",
              "</div>"
            ],
            "text/plain": [
              "   Unnamed: 0  ... label\n",
              "0        8476  ...  FAKE\n",
              "1       10294  ...  FAKE\n",
              "2        3608  ...  REAL\n",
              "3       10142  ...  FAKE\n",
              "4         875  ...  REAL\n",
              "\n",
              "[5 rows x 4 columns]"
            ]
          },
          "metadata": {},
          "execution_count": 14
        }
      ]
    },
    {
      "cell_type": "code",
      "metadata": {
        "colab": {
          "base_uri": "https://localhost:8080/"
        },
        "id": "MuBLTIPmFI2l",
        "outputId": "612c3214-20c3-45cc-e7e6-cfbec1a8fc0b"
      },
      "source": [
        "#Get the labels\n",
        "labels=df.label\n",
        "labels.head()"
      ],
      "execution_count": 6,
      "outputs": [
        {
          "output_type": "execute_result",
          "data": {
            "text/plain": [
              "0    FAKE\n",
              "1    FAKE\n",
              "2    REAL\n",
              "3    FAKE\n",
              "4    REAL\n",
              "Name: label, dtype: object"
            ]
          },
          "metadata": {},
          "execution_count": 6
        }
      ]
    },
    {
      "cell_type": "code",
      "metadata": {
        "colab": {
          "base_uri": "https://localhost:8080/"
        },
        "id": "zrlnedmfO0kf",
        "outputId": "0246a757-7512-476d-895a-2f37c32e4460"
      },
      "source": [
        "df['label'].value_counts()"
      ],
      "execution_count": 16,
      "outputs": [
        {
          "output_type": "execute_result",
          "data": {
            "text/plain": [
              "REAL    3171\n",
              "FAKE    3164\n",
              "Name: label, dtype: int64"
            ]
          },
          "metadata": {},
          "execution_count": 16
        }
      ]
    },
    {
      "cell_type": "markdown",
      "metadata": {
        "id": "21uTueX_irom"
      },
      "source": [
        "# **Preparing the data**\n",
        "___\n",
        "\n",
        "The Next step is to divide the data into 'Attributes' (inputs) and 'labels'  (outputs)."
      ]
    },
    {
      "cell_type": "code",
      "metadata": {
        "id": "DqU_e5wdFI0I"
      },
      "source": [
        "#Split the dataset\n",
        "x_train,x_test,y_train,y_test=train_test_split(df['text'], labels, test_size=0.2, random_state=7)"
      ],
      "execution_count": 7,
      "outputs": []
    },
    {
      "cell_type": "markdown",
      "metadata": {
        "id": "UxMQOjc2QBHP"
      },
      "source": [
        "# **Bag of Words Creation**\n",
        "___"
      ]
    },
    {
      "cell_type": "code",
      "metadata": {
        "id": "x8uzi8tYFIe_"
      },
      "source": [
        "#Initialize a TfidfVectorizer\n",
        "tfidf_vectorizer=TfidfVectorizer(stop_words='english', max_df=0.7)"
      ],
      "execution_count": 8,
      "outputs": []
    },
    {
      "cell_type": "code",
      "metadata": {
        "id": "PQkWCbLSHl49"
      },
      "source": [
        "#Fit and transform train set, transform test set\n",
        "tfidf_train=tfidf_vectorizer.fit_transform(x_train)\n",
        "tfidf_test=tfidf_vectorizer.transform(x_test)"
      ],
      "execution_count": 9,
      "outputs": []
    },
    {
      "cell_type": "markdown",
      "metadata": {
        "id": "WGBfOWD7QQvE"
      },
      "source": [
        "# **Initialize PassiveAggressive Classifier**\n",
        "___"
      ]
    },
    {
      "cell_type": "code",
      "metadata": {
        "colab": {
          "base_uri": "https://localhost:8080/"
        },
        "id": "yJmTQzYwHl2v",
        "outputId": "be0241bd-16f9-4527-c93e-5837cf4d61b0"
      },
      "source": [
        "#Initialize a PassiveAggressiveClassifier\n",
        "pac=PassiveAggressiveClassifier(max_iter=50)\n",
        "pac.fit(tfidf_train,y_train)"
      ],
      "execution_count": 10,
      "outputs": [
        {
          "output_type": "execute_result",
          "data": {
            "text/plain": [
              "PassiveAggressiveClassifier(C=1.0, average=False, class_weight=None,\n",
              "                            early_stopping=False, fit_intercept=True,\n",
              "                            loss='hinge', max_iter=50, n_iter_no_change=5,\n",
              "                            n_jobs=None, random_state=None, shuffle=True,\n",
              "                            tol=0.001, validation_fraction=0.1, verbose=0,\n",
              "                            warm_start=False)"
            ]
          },
          "metadata": {},
          "execution_count": 10
        }
      ]
    },
    {
      "cell_type": "markdown",
      "metadata": {
        "id": "W_DnpPVym85n"
      },
      "source": [
        "# **Making Predictions**\n",
        "___\n",
        "\n",
        "Let's trained our algorithm "
      ]
    },
    {
      "cell_type": "code",
      "metadata": {
        "colab": {
          "base_uri": "https://localhost:8080/"
        },
        "id": "eBBnq7UIHl0K",
        "outputId": "743eeb83-ee66-48d0-a53e-ff0396eeaf5c"
      },
      "source": [
        "#Predict on the test set and calculate accuracy\n",
        "y_pred=pac.predict(tfidf_test)"
      ],
      "execution_count": 11,
      "outputs": [
        {
          "output_type": "stream",
          "name": "stdout",
          "text": [
            "Accuracy: 92.82%\n"
          ]
        }
      ]
    },
    {
      "cell_type": "code",
      "metadata": {
        "id": "nJw00XmeQdWI"
      },
      "source": [
        "#Accuracy\n",
        "score=accuracy_score(y_test,y_pred)\n",
        "print(f'Accuracy: {round(score*100,2)}%')"
      ],
      "execution_count": null,
      "outputs": []
    },
    {
      "cell_type": "markdown",
      "metadata": {
        "id": "dASaMWtxuUp4"
      },
      "source": [
        "# **Evaluation Metrics**\n",
        "\n",
        "---"
      ]
    },
    {
      "cell_type": "code",
      "metadata": {
        "colab": {
          "base_uri": "https://localhost:8080/"
        },
        "id": "N_DCnn2SFIc4",
        "outputId": "3a5255aa-d4d5-4183-e74b-edd8f85a160f"
      },
      "source": [
        "#Build confusion matrix\n",
        "confusion_matrix(y_test,y_pred, labels=['FAKE','REAL'])"
      ],
      "execution_count": 12,
      "outputs": [
        {
          "output_type": "execute_result",
          "data": {
            "text/plain": [
              "array([[590,  48],\n",
              "       [ 43, 586]])"
            ]
          },
          "metadata": {},
          "execution_count": 12
        }
      ]
    },
    {
      "cell_type": "markdown",
      "metadata": {
        "id": "Zn8d2KEk3oQz"
      },
      "source": [
        "# **Conclusion**\n",
        "\n",
        "\n",
        "\n",
        "---\n",
        "In this Python machine learning project, we learned to detect the presence of Parkinson’s Disease inindividuals using various factors. We used an XGBClassifier for this and made use of the sklearn library toprepare the dataset. This gives us an accuracy of 94.87%, which is great considering the number of lines of code in this python project.\n",
        "\n",
        "\n"
      ]
    },
    {
      "cell_type": "markdown",
      "metadata": {
        "id": "e8RJ3w-a66AD"
      },
      "source": [
        "# **Thank You**\n",
        "**Author: Raushan  Kumar**"
      ]
    }
  ]
}